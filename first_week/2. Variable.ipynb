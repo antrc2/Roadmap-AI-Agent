{
 "cells": [
  {
   "cell_type": "markdown",
   "id": "71b18ad8",
   "metadata": {},
   "source": [
    "# Trong Python có 5 kiểu dữ liệu phổ biến:\n",
    "* Số: Số nguyên, số thực\n",
    "* Xâu, chuỗi: Dạng chữ\n",
    "* Mảng: Mảng 1 chiều, mảng đa chiều\n",
    "* Dictionary: bắt đầu bằng \"{}\"\n",
    "* Boolean: True/False"
   ]
  },
  {
   "cell_type": "markdown",
   "id": "3096ead2",
   "metadata": {},
   "source": [
    "0. ## Khai báo biến"
   ]
  },
  {
   "cell_type": "code",
   "execution_count": null,
   "id": "ee68b31e",
   "metadata": {},
   "outputs": [],
   "source": [
    "a = 8\n",
    "b, c = 7, \"Aleotron\""
   ]
  },
  {
   "cell_type": "markdown",
   "id": "e6186f80",
   "metadata": {},
   "source": [
    "1. ## Kiểu Số\n"
   ]
  },
  {
   "cell_type": "code",
   "execution_count": null,
   "id": "60abe1a8",
   "metadata": {},
   "outputs": [],
   "source": [
    "# Số nguyên:\n",
    "a = 7\n",
    "b = 8\n",
    "\n",
    "# Số thực:\n",
    "c = 5.6\n",
    "pi = 3.14"
   ]
  },
  {
   "cell_type": "markdown",
   "id": "f52a996d",
   "metadata": {},
   "source": [
    "2. ## Kiểu chuỗi"
   ]
  },
  {
   "cell_type": "code",
   "execution_count": null,
   "id": "dac50e97",
   "metadata": {},
   "outputs": [],
   "source": [
    "name = \"Aleotron\""
   ]
  },
  {
   "cell_type": "code",
   "execution_count": null,
   "id": "9d15053c",
   "metadata": {},
   "outputs": [],
   "source": []
  },
  {
   "cell_type": "markdown",
   "id": "aee79bb2",
   "metadata": {},
   "source": [
    "3. ## Kiểu mảng"
   ]
  },
  {
   "cell_type": "code",
   "execution_count": null,
   "id": "4a247e1e",
   "metadata": {},
   "outputs": [],
   "source": [
    "# Mảng 1 chiều\n",
    "array = [1,3,5,7,8,10,12]\n",
    "\n",
    "# Mảng đa chiều\n",
    "\n",
    "arr = [\n",
    "    [1,2,3],\n",
    "    [4,5,6],\n",
    "    [7,8,9]\n",
    "]"
   ]
  },
  {
   "cell_type": "markdown",
   "id": "da804768",
   "metadata": {},
   "source": [
    "4. ## Dictionary"
   ]
  },
  {
   "cell_type": "code",
   "execution_count": 4,
   "id": "4e113707",
   "metadata": {},
   "outputs": [
    {
     "name": "stdout",
     "output_type": "stream",
     "text": [
      "Aleotron\n",
      "128\n"
     ]
    }
   ],
   "source": [
    "# Giống với mảng có key value trong PHP\n",
    "# Thường bắt đầu với {}\n",
    "\n",
    "product = {\n",
    "    \"name\": \"Aleotron\",\n",
    "    \"price\": 128\n",
    "}\n",
    "\n",
    "# Lấy tên của sản phẩm:\n",
    "print(product['name'])\n",
    "\n",
    "# Lấy giá của sản phẩm:\n",
    "print(product['price'])"
   ]
  },
  {
   "cell_type": "markdown",
   "id": "75169e28",
   "metadata": {},
   "source": [
    "5. ## Boolean"
   ]
  },
  {
   "cell_type": "code",
   "execution_count": null,
   "id": "2d4d9d48",
   "metadata": {},
   "outputs": [],
   "source": [
    "# Lưu ý: Bắt buộc phải viết hoa chữ cái đầu\n",
    "a = True\n",
    "b = False\n",
    "\n",
    "# Viết là true, false đều không chấp nhận"
   ]
  }
 ],
 "metadata": {
  "kernelspec": {
   "display_name": "env",
   "language": "python",
   "name": "python3"
  },
  "language_info": {
   "codemirror_mode": {
    "name": "ipython",
    "version": 3
   },
   "file_extension": ".py",
   "mimetype": "text/x-python",
   "name": "python",
   "nbconvert_exporter": "python",
   "pygments_lexer": "ipython3",
   "version": "3.10.6"
  }
 },
 "nbformat": 4,
 "nbformat_minor": 5
}
