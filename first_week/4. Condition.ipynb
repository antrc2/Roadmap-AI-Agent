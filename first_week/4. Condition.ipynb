{
  "cells": [
    {
      "cell_type": "markdown",
      "metadata": {},
      "source": [
        "# C\u00e2u \u0111i\u1ec1u ki\u1ec7n trong Python\n",
        "Notebook n\u00e0y gi\u1edbi thi\u1ec7u v\u1ec1 c\u00e2u \u0111i\u1ec1u ki\u1ec7n (if-elif-else) trong Python k\u00e8m v\u00ed d\u1ee5 minh h\u1ecda."
      ]
    },
    {
      "cell_type": "markdown",
      "metadata": {},
      "source": [
        "## 1. C\u00e2u l\u1ec7nh if\n",
        "C\u00e2u l\u1ec7nh `if` \u0111\u01b0\u1ee3c d\u00f9ng \u0111\u1ec3 ki\u1ec3m tra \u0111i\u1ec1u ki\u1ec7n v\u00e0 th\u1ef1c hi\u1ec7n m\u1ed9t h\u00e0nh \u0111\u1ed9ng n\u1ebfu \u0111i\u1ec1u ki\u1ec7n l\u00e0 `True`."
      ]
    },
    {
      "cell_type": "code",
      "execution_count": null,
      "metadata": {},
      "outputs": [],
      "source": [
        "x = 10\n",
        "if x > 5:\n",
        "    print(\"x l\u1edbn h\u01a1n 5\")"
      ]
    },
    {
      "cell_type": "markdown",
      "metadata": {},
      "source": [
        "## 2. C\u00e2u l\u1ec7nh if-else\n",
        "D\u00f9ng khi c\u1ea7n x\u1eed l\u00fd 2 tr\u01b0\u1eddng h\u1ee3p: \u0111\u00fang v\u00e0 sai."
      ]
    },
    {
      "cell_type": "code",
      "execution_count": null,
      "metadata": {},
      "outputs": [],
      "source": [
        "x = 3\n",
        "if x > 5:\n",
        "    print(\"x l\u1edbn h\u01a1n 5\")\n",
        "else:\n",
        "    print(\"x kh\u00f4ng l\u1edbn h\u01a1n 5\")"
      ]
    },
    {
      "cell_type": "markdown",
      "metadata": {},
      "source": [
        "## 3. C\u00e2u l\u1ec7nh if-elif-else\n",
        "D\u00f9ng \u0111\u1ec3 ki\u1ec3m tra nhi\u1ec1u \u0111i\u1ec1u ki\u1ec7n tu\u1ea7n t\u1ef1."
      ]
    },
    {
      "cell_type": "code",
      "execution_count": null,
      "metadata": {},
      "outputs": [],
      "source": [
        "x = 7\n",
        "if x < 5:\n",
        "    print(\"x nh\u1ecf h\u01a1n 5\")\n",
        "elif x == 5:\n",
        "    print(\"x b\u1eb1ng 5\")\n",
        "else:\n",
        "    print(\"x l\u1edbn h\u01a1n 5\")"
      ]
    },
    {
      "cell_type": "markdown",
      "metadata": {},
      "source": [
        "## 4. C\u00e2u l\u1ec7nh if l\u1ed3ng nhau (nested if)"
      ]
    },
    {
      "cell_type": "code",
      "execution_count": null,
      "metadata": {},
      "outputs": [],
      "source": [
        "x = 10\n",
        "if x > 5:\n",
        "    if x < 15:\n",
        "        print(\"x n\u1eb1m gi\u1eefa 5 v\u00e0 15\")"
      ]
    }
  ],
  "metadata": {
    "kernelspec": {
      "display_name": "Python 3",
      "language": "python",
      "name": "python3"
    },
    "language_info": {
      "name": "python"
    }
  },
  "nbformat": 4,
  "nbformat_minor": 5
}