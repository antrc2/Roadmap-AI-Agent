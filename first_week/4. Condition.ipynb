{
  "cells": [
    {
      "cell_type": "markdown",
      "metadata": {},
      "source": [
        "# Câu điều kiện trong Python\n",
        "Notebook này giới thiệu về câu điều kiện (if-elif-else) trong Python kèm ví dụ minh họa."
      ]
    },
    {
      "cell_type": "markdown",
      "metadata": {},
      "source": [
        "## 1. Câu lệnh if\n",
        "Câu lệnh `if` được dùng để kiểm tra điều kiện và thực hiện một hành động nếu điều kiện là `True`."
      ]
    },
    {
      "cell_type": "code",
      "execution_count": null,
      "metadata": {},
      "outputs": [],
      "source": [
        "x = 10\n",
        "if x > 5:\n",
        "    print(\"x lớn hơn 5\")"
      ]
    },
    {
      "cell_type": "markdown",
      "metadata": {},
      "source": [
        "## 2. Câu lệnh if-else\n",
        "Dùng khi cần xử lý 2 trường hợp: đúng và sai."
      ]
    },
    {
      "cell_type": "code",
      "execution_count": null,
      "metadata": {},
      "outputs": [],
      "source": [
        "x = 3\n",
        "if x > 5:\n",
        "    print(\"x lớn hơn 5\")\n",
        "else:\n",
        "    print(\"x không lớn hơn 5\")"
      ]
    },
    {
      "cell_type": "markdown",
      "metadata": {},
      "source": [
        "## 3. Câu lệnh if-elif-else\n",
        "Dùng để kiểm tra nhiều điều kiện tuần tự."
      ]
    },
    {
      "cell_type": "code",
      "execution_count": null,
      "metadata": {},
      "outputs": [],
      "source": [
        "x = 7\n",
        "if x < 5:\n",
        "    print(\"x nhỏ hơn 5\")\n",
        "elif x == 5:\n",
        "    print(\"x bằng 5\")\n",
        "else:\n",
        "    print(\"x lớn hơn 5\")"
      ]
    },
    {
      "cell_type": "markdown",
      "metadata": {},
      "source": [
        "## 4. Câu lệnh if lồng nhau (nested if)"
      ]
    },
    {
      "cell_type": "code",
      "execution_count": null,
      "metadata": {},
      "outputs": [],
      "source": [
        "x = 10\n",
        "if x > 5:\n",
        "    if x < 15:\n",
        "        print(\"x nằm giữa 5 và 15\")"
      ]
    }
  ],
  "metadata": {
    "kernelspec": {
      "display_name": "env",
      "language": "python",
      "name": "python3"
    },
    "language_info": {
      "name": "python",
      "version": "3.10.6"
    }
  },
  "nbformat": 4,
  "nbformat_minor": 5
}
