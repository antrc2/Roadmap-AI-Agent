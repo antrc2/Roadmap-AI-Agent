{
 "cells": [
  {
   "cell_type": "markdown",
   "id": "f7bd377e",
   "metadata": {},
   "source": [
    "# Hello World trong Python"
   ]
  },
  {
   "cell_type": "code",
   "execution_count": 1,
   "id": "639be814",
   "metadata": {},
   "outputs": [
    {
     "name": "stdout",
     "output_type": "stream",
     "text": [
      "Hello World!\n",
      "Hello World!\n"
     ]
    }
   ],
   "source": [
    "# Cách 1: \n",
    "print(\"Hello World!\")\n",
    "\n",
    "# Cách 2: \n",
    "name = \"World\"\n",
    "print(f\"Hello {name}!\")"
   ]
  }
 ],
 "metadata": {
  "kernelspec": {
   "display_name": "env",
   "language": "python",
   "name": "python3"
  },
  "language_info": {
   "codemirror_mode": {
    "name": "ipython",
    "version": 3
   },
   "file_extension": ".py",
   "mimetype": "text/x-python",
   "name": "python",
   "nbconvert_exporter": "python",
   "pygments_lexer": "ipython3",
   "version": "3.10.6"
  }
 },
 "nbformat": 4,
 "nbformat_minor": 5
}
