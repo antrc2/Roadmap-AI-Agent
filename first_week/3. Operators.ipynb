{
  "cells": [
    {
      "cell_type": "markdown",
      "id": "b0a1262f",
      "metadata": {},
      "source": [
        "# Các loại toán tử trong Python"
      ]
    },
    {
      "cell_type": "markdown",
      "id": "df0a2527",
      "metadata": {},
      "source": [
        "## 1. Toán tử số học (Arithmetic Operators)"
      ]
    },
    {
      "cell_type": "code",
      "execution_count": 9,
      "id": "5d57a32a",
      "metadata": {},
      "outputs": [
        {
          "name": "stdout",
          "output_type": "stream",
          "text": [
            "a + b = 13\n",
            "a - b = 7\n",
            "a * b = 30\n",
            "a / b = 3.3333333333333335\n",
            "a // b = 3\n",
            "a % b = 1\n",
            "a ** b = 1000\n"
          ]
        }
      ],
      "source": [
        "a = 10\n",
        "b = 3\n",
        "print(\"a + b =\", a + b)\n",
        "print(\"a - b =\", a - b)\n",
        "print(\"a * b =\", a * b)\n",
        "print(\"a / b =\", a / b)\n",
        "print(\"a // b =\", a // b)\n",
        "print(\"a % b =\", a % b)\n",
        "print(\"a ** b =\", a ** b)"
      ]
    },
    {
      "cell_type": "markdown",
      "id": "ef285722",
      "metadata": {},
      "source": [
        "## 2. Toán tử so sánh (Comparison Operators)"
      ]
    },
    {
      "cell_type": "code",
      "execution_count": 10,
      "id": "7b9b9802",
      "metadata": {},
      "outputs": [
        {
          "name": "stdout",
          "output_type": "stream",
          "text": [
            "a == b: False\n",
            "a != b: True\n",
            "a > b: True\n",
            "a < b: False\n",
            "a >= b: True\n",
            "a <= b: False\n"
          ]
        }
      ],
      "source": [
        "print(\"a == b:\", a == b)\n",
        "print(\"a != b:\", a != b)\n",
        "print(\"a > b:\", a > b)\n",
        "print(\"a < b:\", a < b)\n",
        "print(\"a >= b:\", a >= b)\n",
        "print(\"a <= b:\", a <= b)"
      ]
    },
    {
      "cell_type": "markdown",
      "id": "4ef75b61",
      "metadata": {},
      "source": [
        "## 3. Toán tử gán (Assignment Operators)"
      ]
    },
    {
      "cell_type": "code",
      "execution_count": 11,
      "id": "eb76f924",
      "metadata": {},
      "outputs": [
        {
          "name": "stdout",
          "output_type": "stream",
          "text": [
            "x += 3 => 8\n",
            "x *= 2 => 16\n"
          ]
        }
      ],
      "source": [
        "x = 5\n",
        "x += 3\n",
        "print(\"x += 3 =>\", x)\n",
        "x *= 2\n",
        "print(\"x *= 2 =>\", x)"
      ]
    },
    {
      "cell_type": "markdown",
      "id": "d6c7b759",
      "metadata": {},
      "source": [
        "## 4. Toán tử logic (Logical Operators)"
      ]
    },
    {
      "cell_type": "code",
      "execution_count": 12,
      "id": "f0553810",
      "metadata": {},
      "outputs": [
        {
          "name": "stdout",
          "output_type": "stream",
          "text": [
            "True\n",
            "True\n",
            "False\n"
          ]
        }
      ],
      "source": [
        "print(a > 0 and b > 0)\n",
        "print(a > 0 or b < 0)\n",
        "print(not(a > 0))"
      ]
    },
    {
      "cell_type": "markdown",
      "id": "56511396",
      "metadata": {},
      "source": [
        "## 5. Toán tử quan hệ thành viên (Membership Operators)"
      ]
    },
    {
      "cell_type": "code",
      "execution_count": 13,
      "id": "e8153b22",
      "metadata": {},
      "outputs": [
        {
          "name": "stdout",
          "output_type": "stream",
          "text": [
            "True\n",
            "True\n"
          ]
        }
      ],
      "source": [
        "lst = [1, 2, 3]\n",
        "print(2 in lst)\n",
        "print(5 not in lst)"
      ]
    },
    {
      "cell_type": "markdown",
      "id": "ee37b094",
      "metadata": {},
      "source": [
        "## 6. Toán tử nhận dạng (Identity Operators)"
      ]
    },
    {
      "cell_type": "code",
      "execution_count": 14,
      "id": "69c1a2d7",
      "metadata": {},
      "outputs": [
        {
          "name": "stdout",
          "output_type": "stream",
          "text": [
            "True\n",
            "False\n",
            "True\n"
          ]
        }
      ],
      "source": [
        "x = [1, 2, 3]\n",
        "y = x\n",
        "z = [1, 2, 3]\n",
        "print(x is y)    # True\n",
        "print(x is z)    # False\n",
        "print(x == z)    # True"
      ]
    },
    {
      "cell_type": "markdown",
      "id": "506a52a3",
      "metadata": {},
      "source": [
        "## 7. Toán tử bit (Bitwise Operators)"
      ]
    },
    {
      "cell_type": "code",
      "execution_count": 15,
      "id": "11624ab6",
      "metadata": {},
      "outputs": [
        {
          "name": "stdout",
          "output_type": "stream",
          "text": [
            "a & b: 1\n",
            "a | b: 7\n",
            "a ^ b: 6\n",
            "~a: -6\n",
            "a << 1: 10\n",
            "a >> 1: 2\n"
          ]
        }
      ],
      "source": [
        "a = 5   # 0101\n",
        "b = 3   # 0011\n",
        "print(\"a & b:\", a & b)\n",
        "print(\"a | b:\", a | b)\n",
        "print(\"a ^ b:\", a ^ b)\n",
        "print(\"~a:\", ~a)\n",
        "print(\"a << 1:\", a << 1)\n",
        "print(\"a >> 1:\", a >> 1)"
      ]
    }
  ],
  "metadata": {
    "kernelspec": {
      "display_name": "Python 3",
      "language": "python",
      "name": "python3"
    },
    "language_info": {
      "name": "python"
    }
  },
  "nbformat": 4,
  "nbformat_minor": 5
}
